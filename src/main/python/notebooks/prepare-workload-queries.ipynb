{
 "cells": [
  {
   "cell_type": "code",
   "execution_count": null,
   "metadata": {
    "collapsed": true
   },
   "outputs": [],
   "source": [
    "# Preparing The WatDiv Workload Queries"
   ]
  },
  {
   "cell_type": "markdown",
   "metadata": {},
   "source": [
    "The purpose of this mapping is to discover the patterns in the WatDiv Workload. First we generat a mapping between IDs and queries"
   ]
  },
  {
   "cell_type": "code",
   "execution_count": 1,
   "metadata": {
    "collapsed": false
   },
   "outputs": [],
   "source": [
    "from itertools import izip\n",
    "\n",
    "id_path  = \"/home/amadkour/projects/worq/test/queries/watdiv-workload/test.1.desc\"\n",
    "qry_path = \"/home/amadkour/projects/worq/test/queries/watdiv-workload/test.1.sparql\" \n",
    "\n",
    "#Determine the queries for every ID for WatDiv query workload \n",
    "patterns_dict = dict()\n",
    "queries = dict()\n",
    "\n",
    "with open(id_path) as textfile1, open(qry_path) as textfile2:\n",
    "    for id, qry in izip(textfile1, textfile2):\n",
    "        id = id.strip()\n",
    "        qry = qry.strip()\n",
    "        pattern = (((int(id) - 1) / 100) + 1)\n",
    "        query = qry\n",
    "        queries[id] = query\n",
    "        if pattern not in patterns_dict:\n",
    "            lst = list()\n",
    "            lst.append(id)\n",
    "            patterns_dict[pattern] = lst\n",
    "        else:\n",
    "            lst = patterns_dict[pattern]\n",
    "            lst.append(id)\n",
    "            patterns_dict[pattern] = lst"
   ]
  },
  {
   "cell_type": "markdown",
   "metadata": {},
   "source": [
    "The number of patterns is"
   ]
  },
  {
   "cell_type": "code",
   "execution_count": 2,
   "metadata": {
    "collapsed": false
   },
   "outputs": [
    {
     "name": "stdout",
     "output_type": "stream",
     "text": [
      "124\n"
     ]
    }
   ],
   "source": [
    "print len(patterns_dict)"
   ]
  },
  {
   "cell_type": "code",
   "execution_count": 3,
   "metadata": {
    "collapsed": false
   },
   "outputs": [
    {
     "ename": "OSError",
     "evalue": "[Errno 17] File exists: '/home/amadkour/projects/worq/test/queries/watdiv-workload/test.1.5K'",
     "traceback": [
      "\u001b[1;31m---------------------------------------------------------------------------\u001b[0m",
      "\u001b[1;31mOSError\u001b[0m                                   Traceback (most recent call last)",
      "\u001b[1;32m<ipython-input-3-ade15adf50d8>\u001b[0m in \u001b[0;36m<module>\u001b[1;34m()\u001b[0m\n\u001b[0;32m      2\u001b[0m \u001b[1;33m\u001b[0m\u001b[0m\n\u001b[0;32m      3\u001b[0m \u001b[0mpath\u001b[0m \u001b[1;33m=\u001b[0m \u001b[1;34m\"/home/amadkour/projects/worq/test/queries/watdiv-workload/test.1.5K\"\u001b[0m\u001b[1;33m\u001b[0m\u001b[0m\n\u001b[1;32m----> 4\u001b[1;33m \u001b[0mos\u001b[0m\u001b[1;33m.\u001b[0m\u001b[0mmkdir\u001b[0m\u001b[1;33m(\u001b[0m\u001b[0mpath\u001b[0m\u001b[1;33m)\u001b[0m\u001b[1;33m\u001b[0m\u001b[0m\n\u001b[0m\u001b[0;32m      5\u001b[0m \u001b[0mblacklist\u001b[0m \u001b[1;33m=\u001b[0m \u001b[1;33m[\u001b[0m\u001b[1;36m27\u001b[0m\u001b[1;33m,\u001b[0m\u001b[1;36m52\u001b[0m\u001b[1;33m,\u001b[0m\u001b[1;36m61\u001b[0m\u001b[1;33m,\u001b[0m\u001b[1;36m69\u001b[0m\u001b[1;33m,\u001b[0m\u001b[1;36m74\u001b[0m\u001b[1;33m,\u001b[0m\u001b[1;36m76\u001b[0m\u001b[1;33m,\u001b[0m\u001b[1;36m77\u001b[0m\u001b[1;33m,\u001b[0m\u001b[1;36m116\u001b[0m\u001b[1;33m]\u001b[0m\u001b[1;33m\u001b[0m\u001b[0m\n\u001b[0;32m      6\u001b[0m \u001b[1;31m# os.getcwd()\u001b[0m\u001b[1;33m\u001b[0m\u001b[1;33m\u001b[0m\u001b[0m\n",
      "\u001b[1;31mOSError\u001b[0m: [Errno 17] File exists: '/home/amadkour/projects/worq/test/queries/watdiv-workload/test.1.5K'"
     ],
     "output_type": "error"
    }
   ],
   "source": [
    "import os\n",
    "\n",
    "path = \"/home/amadkour/projects/worq/test/queries/watdiv-workload/test.1.5K\"\n",
    "os.mkdir(path)\n",
    "blacklist = [27,52,61,69,74,76,77,116]\n",
    "# os.getcwd()\n",
    "# input = open(\"test/output/watdiv/results-worq.txt\")\n",
    "for pattern in patterns_dict.keys():\n",
    "    if int(pattern) not in blacklist and pattern >= 17:\n",
    "        qrys = patterns_dict[pattern]\n",
    "        count = 0\n",
    "        for q in qrys:\n",
    "            count += 1\n",
    "            if count == 51:\n",
    "                break\n",
    "            q_id = q\n",
    "            qry_text = queries[q_id]\n",
    "\n",
    "            variable_list = set()\n",
    "\n",
    "            parts = qry_text.split(\" \")\n",
    "            for token in parts:\n",
    "                if token.startswith(\"?\"):\n",
    "                    variable_list.add(token)\n",
    "\n",
    "            line = qry_text.replace(\"*\", \" \".join(variable_list))\n",
    "            line = \"\"\"PREFIX dc: <http://purl.org/dc/terms/>\n",
    "                      PREFIX foaf:\t<http://xmlns.com/foaf/>\n",
    "                      PREFIX gr:\t<http://purl.org/goodrelations/>\n",
    "                      PREFIX gn:\t<http://www.geonames.org/ontology#>\n",
    "                      PREFIX mo:\t<http://purl.org/ontology/mo/>\n",
    "                      PREFIX og:\t<http://ogp.me/ns#>\n",
    "                      PREFIX rev:\t<http://purl.org/stuff/rev#>\n",
    "                      PREFIX rdf:\t<http://www.w3.org/1999/02/22-rdf-syntax-ns#>\n",
    "                      PREFIX rdfs:\t<http://www.w3.org/2000/01/rdf-schema#>\n",
    "                      PREFIX sorg:\t<http://schema.org/>\n",
    "                      PREFIX wsdbm:\t<http://db.uwaterloo.ca/~galuc/wsdbm/>\\n\\n\"\"\" + line\n",
    "\n",
    "            output_file = open(path + \"/{}\".format(q_id) + \"__VP_SO-OS-SS-VP.in\", 'w')\n",
    "            output_file.write(line + '\\n')\n",
    "            output_file.close()"
   ]
  },
  {
   "cell_type": "markdown",
   "metadata": {},
   "source": [
    "Generate a directory containing all the qualifying/valid query patterns"
   ]
  },
  {
   "cell_type": "code",
   "execution_count": 4,
   "metadata": {
    "collapsed": true
   },
   "outputs": [],
   "source": [
    "import os\n",
    "\n",
    "path = \"/home/amadkour/projects/worq/test/queries/watdiv-workload/test.1.patterns\"\n",
    "os.mkdir(path)\n",
    "blacklist = [27,52,61,74,76,77,116]\n",
    "# os.getcwd()\n",
    "# input = open(\"test/output/watdiv/results-worq.txt\")\n",
    "for pattern in patterns_dict.keys():\n",
    "    if int(pattern) not in blacklist and pattern >= 18:\n",
    "        qrys = patterns_dict[pattern]\n",
    "        q_id = qrys[0]\n",
    "        qry_text = queries[q_id]\n",
    "\n",
    "        variable_list = set()\n",
    "\n",
    "        parts = qry_text.split(\" \")\n",
    "        for token in parts:\n",
    "            if token.startswith(\"?\"):\n",
    "                variable_list.add(token)\n",
    "\n",
    "        line = qry_text.replace(\"*\", \" \".join(variable_list))\n",
    "        line = \"\"\"PREFIX dc: <http://purl.org/dc/terms/>\n",
    "                  PREFIX foaf:\t<http://xmlns.com/foaf/>\n",
    "                  PREFIX gr:\t<http://purl.org/goodrelations/>\n",
    "                  PREFIX gn:\t<http://www.geonames.org/ontology#>\n",
    "                  PREFIX mo:\t<http://purl.org/ontology/mo/>\n",
    "                  PREFIX og:\t<http://ogp.me/ns#>\n",
    "                  PREFIX rev:\t<http://purl.org/stuff/rev#>\n",
    "                  PREFIX rdf:\t<http://www.w3.org/1999/02/22-rdf-syntax-ns#>\n",
    "                  PREFIX rdfs:\t<http://www.w3.org/2000/01/rdf-schema#>\n",
    "                  PREFIX sorg:\t<http://schema.org/>\n",
    "                  PREFIX wsdbm:\t<http://db.uwaterloo.ca/~galuc/wsdbm/>\\n\\n\"\"\" + line\n",
    "\n",
    "        output_file = open(path + \"/{}\".format(q_id) + \"__VP_SO-OS-SS-VP.in\", 'w')\n",
    "        output_file.write(line + '\\n')\n",
    "        output_file.close()"
   ]
  },
  {
   "cell_type": "markdown",
   "metadata": {
    "collapsed": true
   },
   "source": [
    "#### Create Dataset for LUBM"
   ]
  },
  {
   "cell_type": "code",
   "execution_count": 2,
   "metadata": {
    "collapsed": true
   },
   "outputs": [],
   "source": [
    "fl = open(\"/home/amadkour/projects/worq/test/queries/all_batch_sequential.q\")\n",
    "\n",
    "query = \"\"\n",
    "numqueries = 0\n",
    "for line in fl:\n",
    "    line = line.strip()\n",
    "    if line == \"#EOQ#\":\n",
    "        numqueries +=1\n",
    "        outfile = open(\"/home/amadkour/projects/worq/test/queries/lubm-workload-all/\"+str(numqueries)+\"__VP_SO-OS-SS-VP.in\",\"w\")\n",
    "        header = \"\"\"PREFIX rdf: <http://www.w3.org/1999/02/22-rdf-syntax-ns#>\n",
    "                    PREFIX ub: <http://www.lehigh.edu/~zhp2/2004/0401/univ-bench.owl#>\n",
    "                    PREFIX swt: <http://swat.cse.lehigh.edu/onto/univ-bench.owl#>\n",
    "                    PREFIX w3c: <http://www.w3.org/2002/07/owl#>\n",
    "        \"\"\"\n",
    "        outfile.write(header + \"\\n\" + query+\"\\n\")\n",
    "        outfile.close()\n",
    "        query = \"\"\n",
    "    else:\n",
    "        query = query + \"\\n\" + line"
   ]
  },
  {
   "cell_type": "code",
   "execution_count": null,
   "metadata": {
    "collapsed": true
   },
   "outputs": [],
   "source": [
    "# import glob\n",
    "\n",
    "# fls = glob.glob(\"/home/amadkour/projects/worq/test/queries/lubm-workload-lite/*\")\n",
    "# outdir  = \"/home/amadkour/projects/worq/test/queries/lubm-workload-lite-fixed/\"\n",
    "\n",
    "# for fl in fls:\n",
    "#     parts = fl.split(\"/\")\n",
    "#     fname = parts[len(parts) -1 ]\n",
    "#     query = open(fl)\n",
    "#     fout = open(outdir+fname,\"w\")\n",
    "#     for line in query:\n",
    "#         line = line.strip()\n",
    "#         if \"<rdf:\" in line:\n",
    "#             line = line.replace(\"rdf:\",\"http://www.w3.org/1999/02/22-rdf-syntax-ns#\")\n",
    "#         if \"<ub:\" in line:\n",
    "#             line = line.replace(\"ub:\",\"http://www.lehigh.edu/~zhp2/2004/0401/univ-bench.owl#\")\n",
    "#         if \"<swt:\" in line:\n",
    "#             line = line.replace(\"swt:\",\"http://swat.cse.lehigh.edu/onto/univ-bench.owl#\")\n",
    "#         if \"<w3c:\" in line:\n",
    "#             line = line.replace(\"w3c:\",\"http://www.w3.org/2002/07/owl#\")\n",
    "#         fout.write(line+\"\\n\")\n",
    "#     fout.close()"
   ]
  }
 ],
 "metadata": {
  "kernelspec": {
   "display_name": "Python 2",
   "language": "python",
   "name": "python2"
  },
  "language_info": {
   "codemirror_mode": {
    "name": "ipython",
    "version": 2
   },
   "file_extension": ".py",
   "mimetype": "text/x-python",
   "name": "python",
   "nbconvert_exporter": "python",
   "pygments_lexer": "ipython2",
   "version": "2.7.11"
  }
 },
 "nbformat": 4,
 "nbformat_minor": 0
}
