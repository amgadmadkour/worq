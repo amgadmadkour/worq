{
 "cells": [
  {
   "cell_type": "markdown",
   "metadata": {},
   "source": [
    "# Prepare Unbound Predicate Queries for WatDiv"
   ]
  },
  {
   "cell_type": "markdown",
   "metadata": {},
   "source": [
    "The purpose of this notebook is to prepare a sample of WatDiv queries representing unbound predicates. We sample a set of 500 queries for every unbound predicate pattern (i.e. sUo, UUo,sUU)."
   ]
  },
  {
   "cell_type": "code",
   "execution_count": 1,
   "metadata": {
    "collapsed": false
   },
   "outputs": [],
   "source": [
    "watdiv_file = spark.read.parquet(\"hdfs://172.18.11.128:8020/user/amadkour/extvpdb-1B/base.parquet\")\n",
    "sample = watdiv_file.rdd.takeSample(False, 2000, seed=0)"
   ]
  },
  {
   "cell_type": "code",
   "execution_count": 2,
   "metadata": {
    "collapsed": false
   },
   "outputs": [],
   "source": [
    "num_preds = set()\n",
    "for entry in sample:\n",
    "    num_preds.add(entry.pred)"
   ]
  },
  {
   "cell_type": "code",
   "execution_count": 3,
   "metadata": {
    "collapsed": false
   },
   "outputs": [
    {
     "data": {
      "text/plain": [
       "48"
      ]
     },
     "execution_count": 3,
     "metadata": {},
     "output_type": "execute_result"
    }
   ],
   "source": [
    "len(num_preds)"
   ]
  },
  {
   "cell_type": "code",
   "execution_count": 4,
   "metadata": {
    "collapsed": false
   },
   "outputs": [
    {
     "data": {
      "text/plain": [
       "2000"
      ]
     },
     "execution_count": 4,
     "metadata": {},
     "output_type": "execute_result"
    }
   ],
   "source": [
    "len(sample)"
   ]
  },
  {
   "cell_type": "markdown",
   "metadata": {},
   "source": [
    "Fix sample size taken from S2RDF dataset"
   ]
  },
  {
   "cell_type": "code",
   "execution_count": 5,
   "metadata": {
    "collapsed": false
   },
   "outputs": [],
   "source": [
    "modifiedsample = list()\n",
    "for entry in sample:\n",
    "    if not (entry.obj.startswith('\"') and not entry.obj.endswith('\"')):\n",
    "        tpl1 = (entry.sub,entry.pred,entry.obj)\n",
    "        modifiedsample.append(tpl1)"
   ]
  },
  {
   "cell_type": "code",
   "execution_count": 6,
   "metadata": {
    "collapsed": true
   },
   "outputs": [],
   "source": [
    "sample1 = modifiedsample[0:500]\n",
    "sample2 = modifiedsample[500:1000]\n",
    "sample3 = modifiedsample[1000:1500]"
   ]
  },
  {
   "cell_type": "code",
   "execution_count": 7,
   "metadata": {
    "collapsed": false
   },
   "outputs": [
    {
     "name": "stdout",
     "output_type": "stream",
     "text": [
      "Original : 2000\n",
      "Sample 1 : 500\n",
      "Sample 2 : 500\n",
      "Sample 3 : 500\n"
     ]
    }
   ],
   "source": [
    "print \"Original : {}\\nSample 1 : {}\\nSample 2 : {}\\nSample 3 : {}\".format(len(sample),len(sample1),len(sample2),len(sample3))"
   ]
  },
  {
   "cell_type": "code",
   "execution_count": 8,
   "metadata": {
    "collapsed": false
   },
   "outputs": [],
   "source": [
    "prefix = dict()\n",
    "prefix[\"dc\"] = \"http://purl.org/dc/terms/\"\n",
    "prefix[\"foaf\"] = \"http://xmlns.com/foaf/\"\n",
    "prefix[\"gr\"] = \"http://purl.org/goodrelations/\"\n",
    "prefix[\"gn\"] = \"http://www.geonames.org/ontology#\"\n",
    "prefix[\"mo\"] = \"http://purl.org/ontology/mo/\"\n",
    "prefix[\"og\"] = \"http://ogp.me/ns#\"\n",
    "prefix[\"rev\"] = \"http://purl.org/stuff/rev#\"\n",
    "prefix[\"rdf\"] = \"http://www.w3.org/1999/02/22-rdf-syntax-ns#\"\n",
    "prefix[\"rdfs\"] = \"http://www.w3.org/2000/01/rdf-schema#\"\n",
    "prefix[\"sorg\"] = \"http://schema.org/\"\n",
    "prefix[\"wsdbm\"] = \"http://db.uwaterloo.ca/~galuc/wsdbm/\""
   ]
  },
  {
   "cell_type": "code",
   "execution_count": 9,
   "metadata": {
    "collapsed": true
   },
   "outputs": [],
   "source": [
    "def resolvePrefix(entry):\n",
    "    if not entry.startswith('\"') and not entry.endswith('\"'):\n",
    "        parts = entry.split(\"__\")\n",
    "        newEntry = \"<\" + prefix[parts[0]]+parts[1] + \">\"\n",
    "        return newEntry\n",
    "    else:\n",
    "        return entry"
   ]
  },
  {
   "cell_type": "code",
   "execution_count": 10,
   "metadata": {
    "collapsed": true
   },
   "outputs": [],
   "source": [
    "def createQuery(select_statement,triple):\n",
    "    return \"SELECT %s WHERE { %s }\" % (select_statement,triple)"
   ]
  },
  {
   "cell_type": "code",
   "execution_count": 11,
   "metadata": {
    "collapsed": false
   },
   "outputs": [
    {
     "name": "stdout",
     "output_type": "stream",
     "text": [
      "Files created successfully\n"
     ]
    }
   ],
   "source": [
    "sample1_ready = list()\n",
    "sample2_ready = list()\n",
    "sample3_ready = list()\n",
    "\n",
    "sample1_file = open(\"/home/amadkour/projects/worq/test/queries/watdiv-unbound/sUo.txt\",'w')\n",
    "for entry in sample1:\n",
    "    select = \"?predicate\"\n",
    "    triple = \"{} ?predicate {}\".format(resolvePrefix(entry[0]),resolvePrefix(entry[2]))\n",
    "    sample1_file.write(createQuery(select,triple)+\"\\n\")\n",
    "    \n",
    "sample1_file.close()\n",
    "\n",
    "sample2_file = open(\"/home/amadkour/projects/worq/test/queries/watdiv-unbound/UUo.txt\",'w')\n",
    "for entry in sample2:\n",
    "    select = \"?subject ?predicate\"\n",
    "    triple = \"?subject ?predicate {}\".format(resolvePrefix(entry[2]))\n",
    "    sample2_file.write(createQuery(select,triple)+\"\\n\")\n",
    "    \n",
    "sample2_file.close()\n",
    "\n",
    "sample3_file = open(\"/home/amadkour/projects/worq/test/queries/watdiv-unbound/sUU.txt\",'w')\n",
    "for entry in sample3:\n",
    "    select = \"?predicate ?object\"\n",
    "    triple = \"{} ?predicate ?object\".format(resolvePrefix(entry[0]))\n",
    "    sample3_file.write(createQuery(select,triple)+\"\\n\")\n",
    "    \n",
    "sample3_file.close()\n",
    "\n",
    "print \"Files created successfully\""
   ]
  },
  {
   "cell_type": "code",
   "execution_count": null,
   "metadata": {
    "collapsed": true
   },
   "outputs": [],
   "source": []
  }
 ],
 "metadata": {
  "kernelspec": {
   "display_name": "Python 2",
   "language": "python",
   "name": "python2"
  },
  "language_info": {
   "codemirror_mode": {
    "name": "ipython",
    "version": 2
   },
   "file_extension": ".py",
   "mimetype": "text/x-python",
   "name": "python",
   "nbconvert_exporter": "python",
   "pygments_lexer": "ipython2",
   "version": "2.7.11"
  }
 },
 "nbformat": 4,
 "nbformat_minor": 0
}
